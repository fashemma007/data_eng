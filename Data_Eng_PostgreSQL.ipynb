{
 "cells": [
  {
   "cell_type": "markdown",
   "id": "57c89172",
   "metadata": {
    "cell_style": "center",
    "heading_collapsed": true,
    "tags": []
   },
   "source": [
    "# Class 1"
   ]
  },
  {
   "cell_type": "code",
   "execution_count": 1,
   "id": "dcd1a467",
   "metadata": {
    "ExecuteTime": {
     "end_time": "2021-07-30T11:06:01.845008Z",
     "start_time": "2021-07-30T11:05:57.278005Z"
    },
    "hidden": true
   },
   "outputs": [],
   "source": [
    "# Importing the library needed\n",
    "import psycopg2\n",
    "import refinitiv.dataplatform as rdp\n",
    "%config Completer.use_jedi = False  # for autosuggest\n"
   ]
  },
  {
   "cell_type": "markdown",
   "id": "69d5d147",
   "metadata": {
    "heading_collapsed": true,
    "hidden": true
   },
   "source": [
    "### Font and theme styling"
   ]
  },
  {
   "cell_type": "code",
   "execution_count": 2,
   "id": "063fc5e1",
   "metadata": {
    "ExecuteTime": {
     "end_time": "2021-07-30T17:14:06.945700Z",
     "start_time": "2021-07-30T17:14:03.912700Z"
    },
    "hidden": true,
    "jupyter": {
     "outputs_hidden": true
    },
    "tags": []
   },
   "outputs": [],
   "source": [
    "!jt -t onedork -fs 90 -altp -tfs 9 -nfs 85 -cellw 85% -lineh 165 -cursc r -N -kl -T"
   ]
  },
  {
   "cell_type": "markdown",
   "id": "cd8cfca6",
   "metadata": {
    "heading_collapsed": true,
    "hidden": true
   },
   "source": [
    "## Validating postgres connectivity"
   ]
  },
  {
   "cell_type": "code",
   "execution_count": 3,
   "id": "61820be4",
   "metadata": {
    "hidden": true,
    "tags": []
   },
   "outputs": [],
   "source": [
    "%load_ext sql"
   ]
  },
  {
   "cell_type": "markdown",
   "id": "7be82a55",
   "metadata": {
    "heading_collapsed": true,
    "hidden": true
   },
   "source": [
    "## Connecting to postgresql localhost db"
   ]
  },
  {
   "cell_type": "code",
   "execution_count": 4,
   "id": "765105e1",
   "metadata": {
    "hidden": true
   },
   "outputs": [
    {
     "name": "stdout",
     "output_type": "stream",
     "text": [
      "Database Connection successful\n"
     ]
    }
   ],
   "source": [
    "# Add TRY Except to catch and interprete errors properly\n",
    "try:\n",
    "    conn = psycopg2.connect(\n",
    "        \"host=127.0.0.1 dbname=postgres user=postgres password=Oluw@gbeng@\")\n",
    "    print(\"Database Connection successful\")\n",
    "except psycopg2.Error as e:\n",
    "    print(\"Error: Could not connect to Postgres database\")\n",
    "    print(e)"
   ]
  },
  {
   "cell_type": "markdown",
   "id": "05163112",
   "metadata": {
    "heading_collapsed": true,
    "hidden": true
   },
   "source": [
    "## Creating a cursor for query execution"
   ]
  },
  {
   "cell_type": "code",
   "execution_count": 5,
   "id": "7554fa6d",
   "metadata": {
    "hidden": true
   },
   "outputs": [
    {
     "name": "stdout",
     "output_type": "stream",
     "text": [
      " Cursor created\n",
      " Autocommit activated\n"
     ]
    }
   ],
   "source": [
    "# Add TRY Except to catch and interprete errors properly\n",
    "try:\n",
    "    cur = conn.cursor()\n",
    "    # turns on autocommit feature so our code doesn't break\n",
    "    conn.set_session(autocommit=True)\n",
    "    print(\" Cursor created\\n Autocommit activated\")\n",
    "except psycopg2.Error as e:\n",
    "    print(\"Error: Could not create cursor\")\n",
    "    print(e)"
   ]
  },
  {
   "cell_type": "markdown",
   "id": "674e9d51",
   "metadata": {
    "heading_collapsed": true,
    "hidden": true
   },
   "source": [
    "## Create a database (ie Table) to work with"
   ]
  },
  {
   "cell_type": "code",
   "execution_count": 14,
   "id": "6923b9df",
   "metadata": {
    "hidden": true
   },
   "outputs": [],
   "source": [
    "cur.execute(\"CREATE TABLE IF NOT exists Users(sn int, Username CHAR, Age int);\")"
   ]
  },
  {
   "cell_type": "code",
   "execution_count": 9,
   "id": "08ae84fb",
   "metadata": {
    "hidden": true
   },
   "outputs": [
    {
     "name": "stdout",
     "output_type": "stream",
     "text": [
      "[(0,)]\n"
     ]
    }
   ],
   "source": [
    "cur.execute(\"select count(*) from Users\")\n",
    "print(cur.fetchall())"
   ]
  },
  {
   "cell_type": "code",
   "execution_count": 10,
   "id": "f17ed8d7",
   "metadata": {
    "hidden": true
   },
   "outputs": [
    {
     "name": "stdout",
     "output_type": "stream",
     "text": [
      "relation \"udacity.music_library\" does not exist\n",
      "LINE 1: select * from udacity.music_library\n",
      "                      ^\n",
      "\n"
     ]
    }
   ],
   "source": [
    "try:\n",
    "    cur.execute(\"select * from udacity.music_library\")\n",
    "except psycopg2.Error as e:\n",
    "    print(e)"
   ]
  },
  {
   "cell_type": "code",
   "execution_count": null,
   "id": "c070a82a",
   "metadata": {
    "hidden": true
   },
   "outputs": [],
   "source": [
    "conn.close()\n",
    "try:\n",
    "    conn = psycopg2.connect(\n",
    "        \"host=127.0.0.1 dbname=Data_eng user=postgres password=Oluw@gbeng@\")\n",
    "    print(\"Database Connection successful\")\n",
    "except psycopg2.Error as e:\n",
    "    print(\"Error: Could not connect to Postgres database\")\n",
    "    print(e)\n",
    "try:\n",
    "    cur = conn.cursor()\n",
    "    # turns on autocommit feature so our code doesn't break\n",
    "    conn.set_session(autocommit=True)\n",
    "    print(\" Cursor created\\n Autocommit activated\")\n",
    "except psycopg2.Error as e:\n",
    "    print(\"Error: Could not create cursor\")\n",
    "    print(e)"
   ]
  },
  {
   "cell_type": "code",
   "execution_count": null,
   "id": "2534e33c",
   "metadata": {
    "hidden": true
   },
   "outputs": [],
   "source": [
    "try:\n",
    "    cur.execute(\n",
    "        \"CREATE TABLE IF NOT EXISTS music_library (album_name varchar, artist_name varchar, year int);\")\n",
    "    print(\"Table created successfully\")\n",
    "except psycopg2.Error as e:\n",
    "    print(\"Error: Issue creating table\")\n",
    "    print(e)"
   ]
  },
  {
   "cell_type": "code",
   "execution_count": null,
   "id": "c5de56a7",
   "metadata": {
    "hidden": true
   },
   "outputs": [],
   "source": [
    "try:\n",
    "    print(\"Output:\")\n",
    "    cur.execute(\"select count(*) from music_library\")\n",
    "except psycopg2.Error as e:\n",
    "    print(\"Error: Issue creating table\")\n",
    "    print(e)\n",
    "\n",
    "print(cur.fetchall())"
   ]
  },
  {
   "cell_type": "code",
   "execution_count": null,
   "id": "e1f8cb0b",
   "metadata": {
    "hidden": true,
    "scrolled": true
   },
   "outputs": [],
   "source": [
    "try:\n",
    "    cur.execute(\"INSERT INTO music_library (album_name, artist_name, year) \\\n",
    "                 VALUES (%s, %s, %s)\",\n",
    "                (\"Sweet Love\", \"Wizkid\", 2015))\n",
    "except psycopg2.Error as e:\n",
    "    print(\"Error: Inserting Rows\")\n",
    "    print(e)\n",
    "\n",
    "try:\n",
    "\n",
    "    cur.execute(\"INSERT INTO music_library (album_name, artist_name, year) \\\n",
    "                 VALUES (%s, %s, %s)\",\n",
    "                (\"Fall in Love\", \"D'banj\", 2012))\n",
    "    print(\"Added Successfully\")\n",
    "except psycopg2.Error as e:\n",
    "    print(\" Error: Inserting Rows;\\n Probable Cause : Duplicate found\")\n",
    "    print(e)"
   ]
  },
  {
   "cell_type": "code",
   "execution_count": null,
   "id": "ef8fa679",
   "metadata": {
    "hidden": true,
    "scrolled": true
   },
   "outputs": [],
   "source": [
    "try:\n",
    "    cur.execute(\"SELECT * FROM music_library;\")\n",
    "except psycopg2.Error as e:\n",
    "    print(\"Error: select *\")\n",
    "    print(e)\n",
    "\n",
    "row = cur.fetchone()\n",
    "while row:\n",
    "    print(row)\n",
    "    row = cur.fetchone()"
   ]
  },
  {
   "cell_type": "markdown",
   "id": "19800452",
   "metadata": {
    "heading_collapsed": true,
    "hidden": true
   },
   "source": [
    "## Deleting duplicates mistakenly uploaded"
   ]
  },
  {
   "cell_type": "code",
   "execution_count": null,
   "id": "ce2b3564",
   "metadata": {
    "hidden": true
   },
   "outputs": [],
   "source": [
    "# create temporary table and select distinct into it.\n",
    "cur.execute(\"CREATE TABLE tmp_table AS SELECT DISTINCT album_name, artist_name, year FROM music_library ORDER BY album_name, artist_name, year;\")\n",
    "\n",
    "# clear the original table\n",
    "cur.execute(\"TRUNCATE music_library;\")\n",
    "\n",
    "# copy data back in again\n",
    "cur.execute(\"INSERT INTO music_library(album_name, artist_name, year) SELECT * FROM  tmp_table ORDER BY album_name, artist_name, year;\")\n",
    "\n",
    "# clean up\n",
    "cur.execute(\"DROP TABLE tmp_table\")"
   ]
  },
  {
   "cell_type": "markdown",
   "id": "b62f8846",
   "metadata": {
    "heading_collapsed": true,
    "hidden": true
   },
   "source": [
    "## Checking our Data Again"
   ]
  },
  {
   "cell_type": "code",
   "execution_count": null,
   "id": "6c3bc539",
   "metadata": {
    "hidden": true,
    "scrolled": true
   },
   "outputs": [],
   "source": [
    "try:\n",
    "    cur.execute(\"SELECT * FROM music_library;\")\n",
    "except psycopg2.Error as e:\n",
    "    print(\"Error: select *\")\n",
    "    print(e)\n",
    "\n",
    "row = cur.fetchone()\n",
    "while row:\n",
    "    print(row)\n",
    "    row = cur.fetchone()"
   ]
  },
  {
   "cell_type": "markdown",
   "id": "1bb95c98",
   "metadata": {
    "heading_collapsed": true,
    "hidden": true
   },
   "source": [
    "## Replacing or Updating data \n",
    "### (based on a selected Key)"
   ]
  },
  {
   "cell_type": "code",
   "execution_count": null,
   "id": "2c4c6bf3",
   "metadata": {
    "hidden": true
   },
   "outputs": [],
   "source": [
    "cur.execute(\"UPDATE music_library set album_name = 'Odogwu' where year = 2010\")\n",
    "cur.execute(\n",
    "    \"UPDATE music_library set album_name = 'Speechless' where year = 2012\")\n",
    "cur.execute(\n",
    "    \"UPDATE music_library set album_name = 'Dancia for me' where year = 2015\")\n",
    "print(\"Update successful\\n \\nNew look\")\n",
    "\n",
    "try:\n",
    "    cur.execute(\"SELECT * FROM music_library;\")\n",
    "except psycopg2.Error as e:\n",
    "    print(\"Error: select *\")\n",
    "    print(e)\n",
    "\n",
    "row = cur.fetchone()\n",
    "while row:\n",
    "    print(row)\n",
    "    row = cur.fetchone()"
   ]
  },
  {
   "cell_type": "markdown",
   "id": "6e020b07",
   "metadata": {
    "heading_collapsed": true,
    "hidden": true
   },
   "source": [
    "## Deleting Rows"
   ]
  },
  {
   "cell_type": "code",
   "execution_count": null,
   "id": "1503744f",
   "metadata": {
    "hidden": true,
    "scrolled": true
   },
   "outputs": [],
   "source": [
    "cur.execute(\"DELETE from music_library where year = 2015\")\n",
    "try:\n",
    "    cur.execute(\"SELECT * FROM music_library;\")\n",
    "except psycopg2.Error as e:\n",
    "    print(\"Error: select *\")\n",
    "    print(e)\n",
    "\n",
    "row = cur.fetchone()\n",
    "while row:\n",
    "    print(row)\n",
    "    row = cur.fetchone()"
   ]
  },
  {
   "cell_type": "markdown",
   "id": "bd608a50",
   "metadata": {
    "heading_collapsed": true,
    "hidden": true
   },
   "source": [
    "## Creating a function for displaying Table"
   ]
  },
  {
   "cell_type": "code",
   "execution_count": null,
   "id": "c4afe66b",
   "metadata": {
    "hidden": true
   },
   "outputs": [],
   "source": [
    "def Show_me():\n",
    "    try:\n",
    "        cur.execute(\"SELECT * FROM music_library;\")\n",
    "    except psycopg2.Error as e:\n",
    "        print(\"Error: select *\")\n",
    "        print(e)\n",
    "    row = cur.fetchone()\n",
    "    while row:\n",
    "        print(row)\n",
    "        row = cur.fetchone()\n",
    "\n",
    "\n",
    "Show_me()"
   ]
  },
  {
   "cell_type": "markdown",
   "id": "3fe0d2e8",
   "metadata": {
    "heading_collapsed": true,
    "hidden": true
   },
   "source": [
    "## Dropping the whole Table"
   ]
  },
  {
   "cell_type": "code",
   "execution_count": null,
   "id": "00007fcd",
   "metadata": {
    "hidden": true
   },
   "outputs": [],
   "source": [
    "try:\n",
    "    cur.execute(\"DROP table music_library\")\n",
    "except psycopg2.Error as e:\n",
    "    print(\"Error: Dropping table\")\n",
    "    print(e)"
   ]
  },
  {
   "cell_type": "markdown",
   "id": "8705ba0a",
   "metadata": {
    "heading_collapsed": true,
    "tags": []
   },
   "source": [
    "# Class 2 "
   ]
  },
  {
   "cell_type": "markdown",
   "id": "18a10e6e",
   "metadata": {
    "hidden": true
   },
   "source": [
    "## Apache Cassandra\n",
    "### Creating a table with Cassandra"
   ]
  },
  {
   "cell_type": "code",
   "execution_count": null,
   "id": "6b0f1f56",
   "metadata": {
    "hidden": true
   },
   "outputs": [],
   "source": [
    "! pip install cassandra-driver\n",
    "# try:\n",
    "#     import cassandra\n",
    "#     print('Import Successful')\n",
    "# except Exception as e:\n",
    "#     print('Error Importing \\nReason:',e)"
   ]
  },
  {
   "cell_type": "code",
   "execution_count": null,
   "id": "1d52605e",
   "metadata": {
    "hidden": true
   },
   "outputs": [],
   "source": [
    "from cassandra.cluster import Cluster\n",
    "try:\n",
    "    cluster = Cluster(['127.0.0.1'])\n",
    "    session = cluster.connect()\n",
    "    print('Connection Successful')\n",
    "except Exception as e:\n",
    "    print('Error Connecting \\nReason:', e)"
   ]
  },
  {
   "cell_type": "markdown",
   "id": "7aeca1d5",
   "metadata": {},
   "source": [
    "# Creating Normalized Tables"
   ]
  },
  {
   "cell_type": "code",
   "execution_count": 11,
   "id": "45a0b7d3",
   "metadata": {
    "ExecuteTime": {
     "end_time": "2021-08-01T17:20:46.538194Z",
     "start_time": "2021-08-01T17:20:46.031193Z"
    }
   },
   "outputs": [
    {
     "name": "stdout",
     "output_type": "stream",
     "text": [
      " Database Connection successful\n",
      "\n",
      " Cursor created\n",
      "\n",
      " Autocommit activated\n"
     ]
    }
   ],
   "source": [
    "# Importing the library needed\n",
    "import psycopg2\n",
    "\n",
    "# Add TRY Except to catch and interprete errors properly\n",
    "try:\n",
    "    conn = psycopg2.connect(\n",
    "        \"host=127.0.0.1 dbname=Data_eng user=postgres password=Oluw@gbeng@\")\n",
    "    print(\" Database Connection successful\\n\")\n",
    "except psycopg2.Error as e:\n",
    "    print(\"Error: Could not connect to Postgres database\")\n",
    "    print(e)\n",
    "\n",
    "    # Add TRY Except to catch and interprete errors properly\n",
    "try:\n",
    "    cur = conn.cursor()\n",
    "    # turns on autocommit feature so our code doesn't break\n",
    "    conn.set_session(autocommit=True)\n",
    "    print(\" Cursor created\\n\\n Autocommit activated\")\n",
    "except psycopg2.Error as e:\n",
    "    print(\"Error: Could not create cursor\")\n",
    "    print(e)"
   ]
  },
  {
   "cell_type": "markdown",
   "id": "97c74062",
   "metadata": {},
   "source": [
    "### Defining related functions"
   ]
  },
  {
   "cell_type": "code",
   "execution_count": 12,
   "id": "b4efd404",
   "metadata": {
    "ExecuteTime": {
     "end_time": "2021-07-30T15:52:43.172007Z",
     "start_time": "2021-07-30T15:52:43.155004Z"
    }
   },
   "outputs": [],
   "source": [
    "Do = cur.execute\n",
    "\n",
    "# To check and be sure our table was created successfully\n",
    "def view2():\n",
    "    try:\n",
    "        Do(\"SELECT * FROM music_library;\")\n",
    "    except psycopg2.Error as e:\n",
    "        print(\"Error: select *\")\n",
    "        print(e)\n",
    "    row = cur.fetchone()\n",
    "    while row:\n",
    "        print(row)\n",
    "        row = cur.fetchone()"
   ]
  },
  {
   "cell_type": "markdown",
   "id": "364bcfe1",
   "metadata": {},
   "source": [
    "### Creating Normalized Tables"
   ]
  },
  {
   "cell_type": "code",
   "execution_count": 13,
   "id": "a33c89a3",
   "metadata": {
    "ExecuteTime": {
     "end_time": "2021-07-30T15:52:51.347003Z",
     "start_time": "2021-07-30T15:52:51.305002Z"
    }
   },
   "outputs": [],
   "source": [
    "cur.execute(\"create table if not exists music_library(album_id int,\\\n",
    "album_name varchar, artist_name varchar,year int, songs text);\")"
   ]
  },
  {
   "cell_type": "code",
   "execution_count": 15,
   "id": "a6e63e3e",
   "metadata": {
    "ExecuteTime": {
     "end_time": "2021-07-30T11:08:34.113006Z",
     "start_time": "2021-07-30T11:08:34.095009Z"
    },
    "tags": []
   },
   "outputs": [],
   "source": [
    "Do(\"INSERT INTO music_library(album_id, album_name,artist_name,year,songs)\\\n",
    "VALUES (%s,%s,%s,%s,%s)\",\n",
    "   (2, \"Let It Be\", \"The Beattles\", 1970, [\"Let It Be\"]))"
   ]
  },
  {
   "cell_type": "markdown",
   "id": "96c6e6a3",
   "metadata": {
    "ExecuteTime": {
     "end_time": "2021-07-30T10:27:47.327444Z",
     "start_time": "2021-07-30T10:27:47.320444Z"
    }
   },
   "source": [
    "#### Step 1 : Split all embedded list"
   ]
  },
  {
   "cell_type": "code",
   "execution_count": 18,
   "id": "8828fbda",
   "metadata": {
    "ExecuteTime": {
     "end_time": "2021-07-30T15:53:04.653004Z",
     "start_time": "2021-07-30T15:53:04.639003Z"
    }
   },
   "outputs": [],
   "source": [
    "def data_input():\n",
    "        album_id=input(\"Enter album ID: \")\n",
    "        album_name=input(\"Enter album name: \")\n",
    "        artist_name=input(\"Enter artist name: \")\n",
    "        year=input(\"Enter album year: \") \n",
    "        songs =input(\"Enter song name: \")\n",
    "        \n",
    "        def add_data(album_id,album_name,artist_name,year,songs):\n",
    "            Do(\"INSERT INTO music_library(album_id, album_name,artist_name,year,songs)\\\n",
    "            VALUES (%s,%s,%s,%s,%s)\",\\\n",
    "               (album_id, album_name,artist_name,year,songs))\n",
    "        add_data(album_id, album_name,artist_name,year,songs)\n",
    "        while album_id != 'quit':\n",
    "            break\n",
    "            data_input()\n"
   ]
  },
  {
   "cell_type": "code",
   "execution_count": 19,
   "id": "c2c6eb8c",
   "metadata": {
    "ExecuteTime": {
     "end_time": "2021-07-30T15:56:52.707006Z",
     "start_time": "2021-07-30T15:56:52.682012Z"
    },
    "scrolled": true
   },
   "outputs": [
    {
     "name": "stdout",
     "output_type": "stream",
     "text": [
      "(1, ' Rubber Soul', ' The Beatles', 1965, None)\n",
      "(2, ' Let It Be', ' The Beatles', 1970, None)\n",
      "(2, 'Let It Be', 'The Beattles', 1970, '{\"Let It Be\"}')\n"
     ]
    }
   ],
   "source": [
    "# data_input()\n",
    "# print(\"\\nHere's how your data looks now: \")\n",
    "view2()\n",
    "# Do(\"Delete from music_library where album_name ='sadfghj'\")"
   ]
  },
  {
   "cell_type": "markdown",
   "id": "175ebb93",
   "metadata": {},
   "source": [
    "## Uploading csv into postgress db"
   ]
  },
  {
   "cell_type": "code",
   "execution_count": 20,
   "id": "07c27f05",
   "metadata": {
    "ExecuteTime": {
     "end_time": "2021-07-30T16:29:16.419753Z",
     "start_time": "2021-07-30T16:29:16.396752Z"
    },
    "scrolled": true
   },
   "outputs": [
    {
     "name": "stdout",
     "output_type": "stream",
     "text": [
      "\n",
      "Here's what the table looks like now: \n",
      "(1, ' Rubber Soul', ' The Beatles', 1965, None)\n",
      "(2, ' Let It Be', ' The Beatles', 1970, None)\n",
      "(2, 'Let It Be', 'The Beattles', 1970, '{\"Let It Be\"}')\n",
      "(1, ' Rubber Soul', ' The Beatles', 1965, 'Michelle')\n",
      "(1, ' Rubber Soul', ' The Beatles', 1965, 'Think For Yourself')\n",
      "(1, ' Rubber Soul', ' The Beatles', 1965, 'In My Life')\n",
      "(2, ' Let It Be', ' The Beatles', 1970, 'Let It Be')\n",
      "(2, ' Let It Be', ' The Beatles', 1970, 'Across The Universe')\n"
     ]
    }
   ],
   "source": [
    "upload= open(r'C:\\\\Users\\\\efaso\\\\Downloads\\\\Data Engineering\\\\Practice Files\\\\upload.csv','r')\n",
    "cur.copy_from(upload,'music_library', sep=',')\n",
    "upload.close()\n",
    "\n",
    "print(\"\\nHere's what the table looks like now: \")\n",
    "view2()"
   ]
  },
  {
   "cell_type": "markdown",
   "id": "a7356edd",
   "metadata": {},
   "source": [
    "## Creating Normalized Tables"
   ]
  },
  {
   "cell_type": "markdown",
   "id": "fa9763df",
   "metadata": {
    "ExecuteTime": {
     "end_time": "2021-07-30T17:44:42.820670Z",
     "start_time": "2021-07-30T17:44:42.801667Z"
    }
   },
   "source": [
    "### Creating the album_library"
   ]
  },
  {
   "cell_type": "code",
   "execution_count": 21,
   "id": "a1767f49",
   "metadata": {
    "ExecuteTime": {
     "end_time": "2021-07-30T17:56:48.911456Z",
     "start_time": "2021-07-30T17:56:48.817453Z"
    }
   },
   "outputs": [],
   "source": [
    "Do(\"create table if not exists album_library(album_id int,album_name varchar,artist_name varchar,year int);\")\n",
    "Do(\"INSERT INTO album_library(album_id, album_name,artist_name,year)\\\n",
    "VALUES (%s,%s,%s,%s)\",\n",
    "   (1, \"Rubber Soul\", \"The Beattles\", 1965))\n",
    "\n",
    "Do(\"INSERT INTO album_library(album_id, album_name,artist_name,year)\\\n",
    "VALUES (%s,%s,%s,%s)\",\n",
    "   (2, \"Let It Be\", \"The Beattles\", 1970))"
   ]
  },
  {
   "cell_type": "code",
   "execution_count": 23,
   "id": "f50cb861",
   "metadata": {
    "ExecuteTime": {
     "end_time": "2021-07-30T18:00:37.141976Z",
     "start_time": "2021-07-30T18:00:37.076978Z"
    },
    "scrolled": true
   },
   "outputs": [],
   "source": [
    "Do(\"create table if not exists song_library(song_id int,album_id int,song_name varchar);\")\n",
    "\n",
    "Do(\"INSERT INTO song_library(song_id,album_id, song_name)\\\n",
    "VALUES (%s,%s,%s)\",(1,1,'Michelle'))\n",
    "\n",
    "Do(\"INSERT INTO song_library(song_id,album_id, song_name)\\\n",
    "VALUES (%s,%s,%s)\",(2,1,'Think For Yourself'))\n",
    "\n",
    "Do(\"INSERT INTO song_library(song_id,album_id, song_name)\\\n",
    "VALUES (%s,%s,%s)\",(3,1,'In My Life'))\n",
    "\n",
    "Do(\"INSERT INTO song_library(song_id,album_id, song_name)\\\n",
    "VALUES (%s,%s,%s)\",(4,2,'Let It Be'))\n",
    "\n",
    "Do(\"INSERT INTO song_library(song_id,album_id, song_name)\\\n",
    "VALUES (%s,%s,%s)\",(5,2,'Across The Universe'))"
   ]
  },
  {
   "cell_type": "markdown",
   "id": "ab09b926",
   "metadata": {
    "heading_collapsed": true
   },
   "source": [
    "### Dropping Duplicates in Album_library\n",
    "##### To swiftly remove any data duplicate while testing code;"
   ]
  },
  {
   "cell_type": "code",
   "execution_count": null,
   "id": "dd464740",
   "metadata": {
    "hidden": true
   },
   "outputs": [],
   "source": [
    "# create temporary table and select distinct into it.\n",
    "cur.execute(\"CREATE TABLE tmp_table AS SELECT DISTINCT album_id, album_name, artist_name, year FROM  album_library ORDER BY album_id,album_name, artist_name, year;\")\n",
    "\n",
    "# clear the original table\n",
    "cur.execute(\"TRUNCATE album_library;\")\n",
    "\n",
    "# copy data back in again\n",
    "cur.execute(\"INSERT INTO album_library(album_id, album_name, artist_name, year) SELECT * FROM  tmp_table ORDER BY album_id, album_name, artist_name, year;\")\n",
    "\n",
    "# clean up\n",
    "cur.execute(\"DROP TABLE tmp_table\")\n",
    "\n",
    "\n",
    "Do(\"select * from album_library\")\n",
    "row = cur.fetchone()\n",
    "while row:\n",
    "    print(row)\n",
    "    row = cur.fetchone()"
   ]
  },
  {
   "cell_type": "markdown",
   "id": "2f517c96",
   "metadata": {},
   "source": [
    "### Dropping Duplicates in Song_library\n",
    "##### To swiftly remove any data duplicate while testing code;"
   ]
  },
  {
   "cell_type": "code",
   "execution_count": 25,
   "id": "2f7f11f8",
   "metadata": {
    "ExecuteTime": {
     "end_time": "2021-07-30T18:04:30.191977Z",
     "start_time": "2021-07-30T18:04:30.119982Z"
    }
   },
   "outputs": [
    {
     "name": "stdout",
     "output_type": "stream",
     "text": [
      "(1, 1, 'Michelle')\n",
      "(2, 1, 'Think For Yourself')\n",
      "(3, 1, 'In My Life')\n",
      "(4, 2, 'Let It Be')\n",
      "(5, 2, 'Across The Universe')\n"
     ]
    }
   ],
   "source": [
    "### To swiftly remove any data duplicate while testing code;\n",
    "# create temporary table and select distinct into it.\n",
    "cur.execute(\"CREATE TABLE tmp_table AS SELECT DISTINCT song_id,album_id, song_name FROM song_library ORDER BY song_id,album_id, song_name;\")\n",
    "\n",
    "# clear the original table\n",
    "cur.execute(\"TRUNCATE song_library;\")\n",
    "\n",
    "# copy data back in again\n",
    "cur.execute(\"INSERT INTO song_library(song_id,album_id, song_name) SELECT * FROM  tmp_table ORDER BY song_id,album_id, song_name;\")\n",
    "\n",
    "# clean up\n",
    "cur.execute(\"DROP TABLE tmp_table\")\n",
    "\n",
    "\n",
    "Do(\"select * from song_library\")\n",
    "row = cur.fetchone()\n",
    "while row:\n",
    "    print(row)\n",
    "    row = cur.fetchone()"
   ]
  },
  {
   "cell_type": "markdown",
   "id": "e19cbdfa",
   "metadata": {
    "ExecuteTime": {
     "end_time": "2021-07-30T18:06:12.452257Z",
     "start_time": "2021-07-30T18:06:12.447253Z"
    }
   },
   "source": [
    "### Joins\n",
    "##### Query flexibility"
   ]
  },
  {
   "cell_type": "code",
   "execution_count": 26,
   "id": "3210ee01",
   "metadata": {
    "ExecuteTime": {
     "end_time": "2021-07-30T18:08:45.899837Z",
     "start_time": "2021-07-30T18:08:45.887837Z"
    }
   },
   "outputs": [
    {
     "name": "stdout",
     "output_type": "stream",
     "text": [
      "(1, ' Rubber Soul', ' The Beatles', 1965, 1, 1, 'Michelle')\n",
      "(1, ' Rubber Soul', ' The Beatles', 1965, 2, 1, 'Think For Yourself')\n",
      "(1, ' Rubber Soul', ' The Beatles', 1965, 3, 1, 'In My Life')\n",
      "(1, 'Rubber Soul', 'The Beattles', 1965, 1, 1, 'Michelle')\n",
      "(1, 'Rubber Soul', 'The Beattles', 1965, 2, 1, 'Think For Yourself')\n",
      "(1, 'Rubber Soul', 'The Beattles', 1965, 3, 1, 'In My Life')\n",
      "(2, ' Let It Be', ' The Beatles', 1970, 4, 2, 'Let It Be')\n",
      "(2, ' Let It Be', ' The Beatles', 1970, 5, 2, 'Across The Universe')\n",
      "(2, 'Let It Be', 'The Beattles', 1970, 4, 2, 'Let It Be')\n",
      "(2, 'Let It Be', 'The Beattles', 1970, 5, 2, 'Across The Universe')\n"
     ]
    }
   ],
   "source": [
    "Do(\"select * from album_library JOIN\\\n",
    " song_library ON album_library.album_id = song_library.album_id ;\")\n",
    "row=cur.fetchone()\n",
    "while row:\n",
    "    print(row)\n",
    "    row= cur.fetchone()"
   ]
  },
  {
   "cell_type": "markdown",
   "id": "cf27bad9",
   "metadata": {
    "heading_collapsed": true
   },
   "source": [
    "## Defining some awesome function"
   ]
  },
  {
   "cell_type": "markdown",
   "id": "53281636",
   "metadata": {
    "heading_collapsed": true,
    "hidden": true
   },
   "source": [
    "### Autosearch"
   ]
  },
  {
   "cell_type": "code",
   "execution_count": 28,
   "id": "f31d6cbc",
   "metadata": {
    "ExecuteTime": {
     "end_time": "2021-07-30T10:59:51.801008Z",
     "start_time": "2021-07-30T10:59:51.792021Z"
    },
    "hidden": true
   },
   "outputs": [],
   "source": [
    "def select():\n",
    "    tab = input(\"Enter Table name: \")\n",
    "    colmn = input(\"Enter column name: \")\n",
    "    req = input(\"Enter Search criteria: \")\n",
    "\n",
    "    def sel(tab, colmn, req):\n",
    "        Do(\"SELECT * FROM {} where {} = {}\".format(tab, colmn, req))\n",
    "        row = cur.fetchone()\n",
    "        while row:\n",
    "            print(row)\n",
    "            row = cur.fetchone()\n",
    "    sel(tab, colmn, req)"
   ]
  },
  {
   "cell_type": "code",
   "execution_count": null,
   "id": "8aed4ecb",
   "metadata": {
    "ExecuteTime": {
     "start_time": "2021-07-30T10:59:52.860Z"
    },
    "hidden": true,
    "scrolled": true
   },
   "outputs": [],
   "source": [
    "select()"
   ]
  },
  {
   "cell_type": "markdown",
   "id": "474929e7",
   "metadata": {
    "heading_collapsed": true,
    "hidden": true
   },
   "source": [
    "### Data Input"
   ]
  },
  {
   "cell_type": "code",
   "execution_count": null,
   "id": "aa840d34",
   "metadata": {
    "ExecuteTime": {
     "end_time": "2021-07-30T10:56:03.967005Z",
     "start_time": "2021-07-30T10:56:03.960009Z"
    },
    "hidden": true
   },
   "outputs": [],
   "source": [
    "\n",
    "def data_input():\n",
    "        album_id=input(\"Enter album ID: \")\n",
    "        album_name=input(\"Enter album name: \")\n",
    "        artist_name=input(\"Enter artist name: \")\n",
    "        year=input(\"Enter album year: \") \n",
    "        songs =input(\"Enter song name: \")\n",
    "        \n",
    "        def add_data(album_id,album_name,artist_name,year,songs):\n",
    "            Do(\"INSERT INTO music_lib(album_id, album_name,artist_name,year,songs)\\\n",
    "            VALUES (%s,%s,%s,%s,%s)\",\\\n",
    "               (album_id, album_name,artist_name,year,songs))\n",
    "        add_data(album_id, album_name,artist_name,year,songs)\n",
    "        while album_id != 'quit':\n",
    "            data_input()\n"
   ]
  },
  {
   "cell_type": "code",
   "execution_count": null,
   "id": "d8b01014",
   "metadata": {
    "ExecuteTime": {
     "end_time": "2021-07-30T10:56:06.563005Z",
     "start_time": "2021-07-30T10:56:06.541006Z"
    },
    "hidden": true
   },
   "outputs": [],
   "source": [
    "data_input()"
   ]
  },
  {
   "cell_type": "code",
   "execution_count": null,
   "id": "461d5b32",
   "metadata": {
    "ExecuteTime": {
     "end_time": "2021-07-30T08:49:36.396949Z",
     "start_time": "2021-07-30T08:49:36.367944Z"
    },
    "hidden": true
   },
   "outputs": [],
   "source": [
    "view()"
   ]
  },
  {
   "cell_type": "markdown",
   "id": "91aa2951",
   "metadata": {
    "heading_collapsed": true,
    "hidden": true
   },
   "source": [
    "### Deleting Data"
   ]
  },
  {
   "cell_type": "code",
   "execution_count": null,
   "id": "8a4056ca",
   "metadata": {
    "ExecuteTime": {
     "end_time": "2021-07-30T16:26:08.529109Z",
     "start_time": "2021-07-30T16:26:08.513107Z"
    },
    "hidden": true
   },
   "outputs": [],
   "source": [
    "def delete_row():\n",
    "    tab = input(\"Enter Table name: \")\n",
    "    colmn = input(\"Enter column name: \")\n",
    "    req = input(\"Enter Search/Delete criteria: \")\n",
    "    \n",
    "    cur.execute(\"DELETE from {} where {} = {}\".format(tab, colmn, req))\n",
    "\n",
    "    print(\"\\nHere's what the table looks like now: \")\n",
    "    view2()"
   ]
  },
  {
   "cell_type": "code",
   "execution_count": null,
   "id": "499f2214",
   "metadata": {
    "ExecuteTime": {
     "end_time": "2021-07-30T16:26:26.057107Z",
     "start_time": "2021-07-30T16:26:09.838107Z"
    },
    "hidden": true
   },
   "outputs": [
    {
     "name": "stdout",
     "output_type": "stream",
     "text": [
      "Enter Table name: music_library\n",
      "Enter column name: album_id\n",
      "Enter Search/Delete criteria: 2\n",
      "\n",
      "Here's what the table looks like now: \n"
     ]
    }
   ],
   "source": [
    "delete_row()"
   ]
  },
  {
   "cell_type": "code",
   "execution_count": null,
   "id": "343ddd19",
   "metadata": {
    "ExecuteTime": {
     "end_time": "2021-07-30T09:55:46.149853Z",
     "start_time": "2021-07-30T09:55:46.136861Z"
    },
    "hidden": true
   },
   "outputs": [],
   "source": [
    "view()"
   ]
  },
  {
   "cell_type": "code",
   "execution_count": null,
   "id": "83045dbd",
   "metadata": {
    "ExecuteTime": {
     "end_time": "2021-07-30T16:22:53.575107Z",
     "start_time": "2021-07-30T16:22:53.551113Z"
    },
    "hidden": true
   },
   "outputs": [],
   "source": []
  },
  {
   "cell_type": "code",
   "execution_count": null,
   "id": "dc405b7f",
   "metadata": {
    "hidden": true
   },
   "outputs": [],
   "source": []
  }
 ],
 "metadata": {
  "finalized": {
   "timestamp": 1627581612921,
   "trusted": true
  },
  "interpreter": {
   "hash": "b3ba2566441a7c06988d0923437866b63cedc61552a5af99d1f4fb67d367b25f"
  },
  "kernelspec": {
   "display_name": "Python 3",
   "language": "python",
   "name": "python3"
  },
  "language_info": {
   "codemirror_mode": {
    "name": "ipython",
    "version": 3
   },
   "file_extension": ".py",
   "mimetype": "text/x-python",
   "name": "python",
   "nbconvert_exporter": "python",
   "pygments_lexer": "ipython3",
   "version": "3.8.8"
  },
  "latex_envs": {
   "LaTeX_envs_menu_present": true,
   "autoclose": false,
   "autocomplete": true,
   "bibliofile": "biblio.bib",
   "cite_by": "apalike",
   "current_citInitial": 1,
   "eqLabelWithNumbers": true,
   "eqNumInitial": 1,
   "hotkeys": {
    "equation": "Ctrl-E",
    "itemize": "Ctrl-I"
   },
   "labels_anchors": false,
   "latex_user_defs": false,
   "report_style_numbering": false,
   "user_envs_cfg": false
  },
  "notify_time": "5",
  "toc": {
   "base_numbering": 1,
   "nav_menu": {},
   "number_sections": true,
   "sideBar": true,
   "skip_h1_title": false,
   "title_cell": "Table of Contents",
   "title_sidebar": "Contents",
   "toc_cell": false,
   "toc_position": {
    "height": "676.328px",
    "left": "47px",
    "top": "513.688px",
    "width": "290.254px"
   },
   "toc_section_display": true,
   "toc_window_display": true
  },
  "toc-autonumbering": true,
  "toc-showcode": false,
  "toc-showmarkdowntxt": false,
  "varInspector": {
   "cols": {
    "lenName": 16,
    "lenType": 16,
    "lenVar": 40
   },
   "kernels_config": {
    "python": {
     "delete_cmd_postfix": "",
     "delete_cmd_prefix": "del ",
     "library": "var_list.py",
     "varRefreshCmd": "print(var_dic_list())"
    },
    "r": {
     "delete_cmd_postfix": ") ",
     "delete_cmd_prefix": "rm(",
     "library": "var_list.r",
     "varRefreshCmd": "cat(var_dic_list()) "
    }
   },
   "types_to_exclude": [
    "module",
    "function",
    "builtin_function_or_method",
    "instance",
    "_Feature"
   ],
   "window_display": false
  }
 },
 "nbformat": 4,
 "nbformat_minor": 5
}
